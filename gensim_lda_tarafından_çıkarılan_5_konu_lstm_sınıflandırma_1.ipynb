{
  "cells": [
    {
      "cell_type": "markdown",
      "metadata": {
        "id": "view-in-github",
        "colab_type": "text"
      },
      "source": [
        "<a href=\"https://colab.research.google.com/github/ilkzeyden/call-center-customer-conversationsclustering-and-classification/blob/main/gensim_lda_taraf%C4%B1ndan_%C3%A7%C4%B1kar%C4%B1lan_5_konu_lstm_s%C4%B1n%C4%B1fland%C4%B1rma_1.ipynb\" target=\"_parent\"><img src=\"https://colab.research.google.com/assets/colab-badge.svg\" alt=\"Open In Colab\"/></a>"
      ]
    },
    {
      "cell_type": "code",
      "execution_count": null,
      "metadata": {
        "id": "ta4CjFiakDjV"
      },
      "outputs": [],
      "source": [
        "import pandas as pd # Veri yapıları ile çalışmak için pandas modülü.\n",
        "from sklearn import metrics"
      ]
    },
    {
      "cell_type": "code",
      "execution_count": null,
      "metadata": {
        "id": "oCPM1G9ZkDjW",
        "outputId": "b4c1fbde-72d7-40a2-eb25-2de241106a61"
      },
      "outputs": [
        {
          "data": {
            "text/html": [
              "<div>\n",
              "<style scoped>\n",
              "    .dataframe tbody tr th:only-of-type {\n",
              "        vertical-align: middle;\n",
              "    }\n",
              "\n",
              "    .dataframe tbody tr th {\n",
              "        vertical-align: top;\n",
              "    }\n",
              "\n",
              "    .dataframe thead th {\n",
              "        text-align: right;\n",
              "    }\n",
              "</style>\n",
              "<table border=\"1\" class=\"dataframe\">\n",
              "  <thead>\n",
              "    <tr style=\"text-align: right;\">\n",
              "      <th></th>\n",
              "      <th>Baskın Konu</th>\n",
              "      <th>Yazı</th>\n",
              "    </tr>\n",
              "  </thead>\n",
              "  <tbody>\n",
              "    <tr>\n",
              "      <th>0</th>\n",
              "      <td>9</td>\n",
              "      <td>kaldım     saat derecede evde       sırf...</td>\n",
              "    </tr>\n",
              "    <tr>\n",
              "      <th>1</th>\n",
              "      <td>9</td>\n",
              "      <td>faruk   klima  gece ilk çalıştırdım  yapıla...</td>\n",
              "    </tr>\n",
              "    <tr>\n",
              "      <th>2</th>\n",
              "      <td>11</td>\n",
              "      <td>çalışmalar ceylan        televizyon   yeni  ...</td>\n",
              "    </tr>\n",
              "    <tr>\n",
              "      <th>3</th>\n",
              "      <td>11</td>\n",
              "      <td>çamaşır makine sorun   servis talep edecek...</td>\n",
              "    </tr>\n",
              "    <tr>\n",
              "      <th>4</th>\n",
              "      <td>11</td>\n",
              "      <td>ezgi   televizyon  arıza  ücret paneli gidiş...</td>\n",
              "    </tr>\n",
              "    <tr>\n",
              "      <th>...</th>\n",
              "      <td>...</td>\n",
              "      <td>...</td>\n",
              "    </tr>\n",
              "    <tr>\n",
              "      <th>8979</th>\n",
              "      <td>11</td>\n",
              "      <td>ibrahim      klima    kurulum         buray...</td>\n",
              "    </tr>\n",
              "    <tr>\n",
              "      <th>8980</th>\n",
              "      <td>9</td>\n",
              "      <td>görüntülü anlamam telefon     ısıtmıy...</td>\n",
              "    </tr>\n",
              "    <tr>\n",
              "      <th>8981</th>\n",
              "      <td>2</td>\n",
              "      <td>telefon garanti oraya kayıtımın almışlardı ...</td>\n",
              "    </tr>\n",
              "    <tr>\n",
              "      <th>8982</th>\n",
              "      <td>3</td>\n",
              "      <td>işler  yorum    durumum vardı  media mar...</td>\n",
              "    </tr>\n",
              "    <tr>\n",
              "      <th>8983</th>\n",
              "      <td>0</td>\n",
              "      <td>cep telefon vardı  babam kullanıyor götür...</td>\n",
              "    </tr>\n",
              "  </tbody>\n",
              "</table>\n",
              "<p>8984 rows × 2 columns</p>\n",
              "</div>"
            ],
            "text/plain": [
              "      Baskın Konu                                               Yazı\n",
              "0               9        kaldım     saat derecede evde       sırf...\n",
              "1               9     faruk   klima  gece ilk çalıştırdım  yapıla...\n",
              "2              11    çalışmalar ceylan        televizyon   yeni  ...\n",
              "3              11      çamaşır makine sorun   servis talep edecek...\n",
              "4              11    ezgi   televizyon  arıza  ücret paneli gidiş...\n",
              "...           ...                                                ...\n",
              "8979           11     ibrahim      klima    kurulum         buray...\n",
              "8980            9           görüntülü anlamam telefon     ısıtmıy...\n",
              "8981            2     telefon garanti oraya kayıtımın almışlardı ...\n",
              "8982            3        işler  yorum    durumum vardı  media mar...\n",
              "8983            0       cep telefon vardı  babam kullanıyor götür...\n",
              "\n",
              "[8984 rows x 2 columns]"
            ]
          },
          "execution_count": 2,
          "metadata": {},
          "output_type": "execute_result"
        }
      ],
      "source": [
        "df = pd.read_excel('df_5_toplam.xlsx')\n",
        "df.drop(columns=['Unnamed: 0'],inplace=True)\n",
        "df\n"
      ]
    },
    {
      "cell_type": "code",
      "execution_count": null,
      "metadata": {
        "id": "ekr4XgxCkDjX"
      },
      "outputs": [],
      "source": [
        "from tensorflow.keras.preprocessing.text import Tokenizer\n",
        " # Makinenin yazıyı anlayabilmesi için Tokenizer ile veri setinde kullanılan en çok 50000 kelime ile bir sözlük oluşturulur.\n",
        "\n",
        "tokenizer = Tokenizer(num_words=50000) # sözlük oluşturulur.\n",
        "tokenizer.fit_on_texts(df['Yazı']) # yazılar tokene dönüştürülür."
      ]
    },
    {
      "cell_type": "code",
      "execution_count": null,
      "metadata": {
        "id": "EarqNUhFkDjX",
        "outputId": "cda0de26-6e60-4dc1-c41b-9de41045c8c2"
      },
      "outputs": [
        {
          "data": {
            "text/plain": [
              "2261"
            ]
          },
          "execution_count": 4,
          "metadata": {},
          "output_type": "execute_result"
        }
      ],
      "source": [
        "# Verimiz için bir cümle uzunluğu hesaplanır.\n",
        "import numpy as np # Dizi işlemleri için numpy modülü.\n",
        "\n",
        "# toplam token sayısı\n",
        "num_tokens = [len(tokens) for tokens in df['Yazı']]\n",
        "num_tokens = np.array(num_tokens)\n",
        "\n",
        "# max token sayısı\n",
        "max_tokens = np.mean(num_tokens) + 2 * np.std(num_tokens)\n",
        "max_tokens = int(max_tokens)\n",
        "max_tokens"
      ]
    },
    {
      "cell_type": "code",
      "execution_count": null,
      "metadata": {
        "id": "KvQsZ0mLkDjY"
      },
      "outputs": [],
      "source": [
        "# Sinir ağımız bizden girdileri eşit boyutta istiyor. Gerçek hayattaki problemlerde bu çok zordur. Bu yüzden verileri aynı boyuta getirmek için pad_sequences kullanılır.\n",
        "from keras.preprocessing.sequence import pad_sequences\n",
        "\n",
        "X = tokenizer.texts_to_sequences(df['Yazı']) # cümleleri sözlükteki kelimelerin karşılığına çevrilir.\n",
        "\n",
        "X_pad = pad_sequences(X, maxlen=max_tokens) # pad_sequences ile aynı boyuta getirilir. uzunluk olarak da önceden hesapladığımız cümle boyutu max_tokens koydum."
      ]
    },
    {
      "cell_type": "code",
      "execution_count": null,
      "metadata": {
        "id": "g0VOA75YkDjY"
      },
      "outputs": [],
      "source": [
        "# verimiz dengesiz olduğu için RandomOverSampler ile verimizi yeniden örnekliyoruz.\n",
        "from imblearn.over_sampling import RandomOverSampler\n",
        "\n",
        "Y = pd.get_dummies(df['Baskın Konu']).values # çıktı verilerimiz anlayacağı hale getirdik.\n",
        "\n",
        "rus = RandomOverSampler(random_state = 0, sampling_strategy = \"minority\") # RandomUnderSampler parametreleri belirlenerek değişkene atanır. sampling_strategy, örnekleme stratejisi, minority olarak belirlendi. Çünkü verilerimiz dengesiz olduğu için azınlıkları(minority) yeniden örnekleyerek veriyi dengelemeye çalışıyoruz.\n",
        "x_rus, y_rus = rus.fit_resample(X_pad, Y) # veriler yeniden örneklendirilir."
      ]
    },
    {
      "cell_type": "code",
      "execution_count": null,
      "metadata": {
        "id": "DnjvO0YWkDjY",
        "outputId": "bd3329df-3be1-4842-e05c-fbc5a7b4d5ad"
      },
      "outputs": [
        {
          "name": "stdout",
          "output_type": "stream",
          "text": [
            "(7721, 2261) (7721, 5)\n",
            "(2574, 2261) (2574, 5)\n"
          ]
        }
      ],
      "source": [
        "from sklearn.model_selection import train_test_split # verileri eğitim ve test diye bölünür.\n",
        "x_train, x_test, y_train, y_test = train_test_split(x_rus, y_rus, test_size = 0.25, random_state = 42)\n",
        "\n",
        "print(x_train.shape, y_train.shape)\n",
        "print(x_test.shape, y_test.shape)"
      ]
    },
    {
      "cell_type": "code",
      "execution_count": null,
      "metadata": {
        "id": "ZWuVSxfIkDjZ",
        "outputId": "a1de3f45-a316-4392-957e-f104259bac59"
      },
      "outputs": [
        {
          "name": "stdout",
          "output_type": "stream",
          "text": [
            "Epoch 1/28\n",
            "\u001b[1m16/16\u001b[0m \u001b[32m━━━━━━━━━━━━━━━━━━━━\u001b[0m\u001b[37m\u001b[0m \u001b[1m1372s\u001b[0m 86s/step - accuracy: 0.2502 - loss: 1.5981 - val_accuracy: 0.2832 - val_loss: 1.5550\n",
            "Epoch 2/28\n",
            "\u001b[1m16/16\u001b[0m \u001b[32m━━━━━━━━━━━━━━━━━━━━\u001b[0m\u001b[37m\u001b[0m \u001b[1m569s\u001b[0m 35s/step - accuracy: 0.3830 - loss: 1.4902 - val_accuracy: 0.4771 - val_loss: 1.3477\n",
            "Epoch 3/28\n",
            "\u001b[1m 7/16\u001b[0m \u001b[32m━━━━━━━━\u001b[0m\u001b[37m━━━━━━━━━━━━\u001b[0m \u001b[1m5:24\u001b[0m 36s/step - accuracy: 0.4496 - loss: 1.3344"
          ]
        }
      ],
      "source": [
        "from tensorflow import keras # yapay sinir ağı kullanmak için keras yüklenir.\n",
        "from math import exp\n",
        "import matplotlib.pyplot as plt\n",
        "\n",
        "model = keras.Sequential() # Bir sıralı(Sequential) model, tek girdi ve tek çıktı katmanın olduğu derin öğrenme modeli oluşturmaya yarar.\n",
        "model.add(keras.layers.Embedding(50000, 100, input_length=max_tokens)) # yazıyı vektörlere çevirir. Tanımı: Pozitif tamsayı (indeksleri) sabit boyutta yoğun vektörlere dönüştürür.\n",
        "model.add(keras.layers.LSTM(100, dropout=0.5, recurrent_dropout=0.5))\n",
        "model.add(keras.layers.Dense(5, activation='softmax')) # çıktı katmanı. SoftMAX aktivasyon fonksiyonu, göreceli olasılıkları hesaplar. çoklu sınıf olduğu için softmax kullanılır. ağın son katmanı için aktivasyon olarak kullanılır, çünkü sonuç bir olasılık dağılımı olarak yorumlanabilir. softmanx kullanılmasının sebebi modelin multi-class ve bir doğru cevabın olmasındandır.\n",
        "\n",
        "model.compile(loss='categorical_crossentropy', optimizer='adam', metrics=['accuracy']) # çok sınıflı sınıflandırma problemi olduğu için categorical_crossentropy kullanıldı.\n",
        "\n",
        "epochs = 28 # Algoritmasının tüm eğitim veri kümesinde kaç kere çalışacağını belirtir.\n",
        "batch_size = 512 # batch, bir veya daha fazla örnek üzerinde yineleme yapan ve tahminlerde bulunan için bir döngü sayısıdır. her örnekten sonra tahminler beklenen çıktılarla karşılaştırılır ve bir hata hesaplanır. hataya göre tahmini iyileştirmeye çalışır.\n",
        "\n",
        "#callback = (keras.callbacks.EarlyStopping(monitor='val_loss', patience=5, min_delta=0.0001))# model çalıştırılır(validation loss'u gözle eğer 3 epochdur(devirdir) en az 0.0001 gelişmiyorsa eğitimi durdur.)\n",
        "\n",
        "history = model.fit(x_train, y_train, epochs=epochs, batch_size=batch_size,validation_data=[x_test,y_test]) # model çalıştırılır\n",
        "\n",
        "# modelimizin test verileri doğruluğu\n",
        "accr = model.evaluate(x_test, y_test)\n",
        "print(f\"Test Loss: {accr[0]}, Test Accuracy: {accr[1]}\")\n",
        "\n"
      ]
    },
    {
      "cell_type": "code",
      "execution_count": null,
      "metadata": {
        "id": "X5irrDZCkDjZ"
      },
      "outputs": [],
      "source": [
        "y_pred = model.predict(x_test, batch_size=512, verbose=0)\n",
        "\n",
        "# karmaşıklık matrisi için y_pred ve y_test değerlerimizi argmax() ile satır bazlı bakılarak maksimum değerinin sırasının listesine dönüştürülür.\n",
        "rounded_y_pred = np.argmax(y_pred, axis=1)\n",
        "rounded_labels = np.argmax(y_test, axis=1)\n",
        "\n",
        "# sınıflandırma raporu\n",
        "from sklearn import metrics\n",
        "cr = metrics.classification_report(rounded_labels, rounded_y_pred, zero_division=0)\n",
        "print(cr)"
      ]
    },
    {
      "cell_type": "code",
      "execution_count": null,
      "metadata": {
        "id": "kzag827fkDjZ",
        "outputId": "8a1b91d3-5c57-41cd-cd7c-8aec1ac8f682"
      },
      "outputs": [
        {
          "data": {
            "image/png": "[encoded data removed]",
            "text/plain": [
              "<Figure size 640x480 with 1 Axes>"
            ]
          },
          "metadata": {},
          "output_type": "display_data"
        }
      ],
      "source": [
        "# Eğitim süreci ve doğrulama kayıplarını ve doğruluklarını görselleştirme\n",
        "plt.plot(history.history['accuracy'], label='Training Accuracy')\n",
        "plt.plot(history.history['val_accuracy'], label='Validation Accuracy')\n",
        "plt.xlabel('Epoch')\n",
        "plt.ylabel('Accuracy')\n",
        "plt.legend()\n",
        "plt.show()\n",
        "\n",
        "# Eğitim ve doğrulama kayıplarını ve doğruluklarını DataFrame'e dönüştürme\n",
        "history_df = pd.DataFrame(history.history)\n",
        "\n",
        "# Modelin test sonuçlarını DataFrame'e ekleme\n",
        "test_results = pd.DataFrame({'test_loss': [accr[0]], 'test_accuracy': [accr[1]]})\n",
        "\n",
        "# Tüm sonuçları birleştirme\n",
        "results_df = pd.concat([history_df, test_results], axis=1)\n",
        "\n",
        "# Sonuçları Excel dosyasına yazma\n",
        "results_df.to_excel('model_results1.xlsx', index=False)"
      ]
    },
    {
      "cell_type": "code",
      "execution_count": null,
      "metadata": {
        "id": "pX7s7CH9kDjZ"
      },
      "outputs": [],
      "source": [
        "sonuçlar_df = pd.DataFrame(columns=['epochs', 'accuracy', 'loss', 'val_loss','cr'])\n"
      ]
    },
    {
      "cell_type": "code",
      "execution_count": null,
      "metadata": {
        "id": "l45JCyn1kDja"
      },
      "outputs": [],
      "source": [
        " sonuçlar_df = pd.concat([sonuçlar_df, pd.DataFrame({\n",
        "             'epochs': [epochs],\n",
        "             'batch_size':[batch_size],\n",
        "             'accuracy': [[accr[1]]],\n",
        "             'loss': [[accr[0]]],\n",
        "\n",
        "       })], ignore_index=True)"
      ]
    },
    {
      "cell_type": "code",
      "execution_count": null,
      "metadata": {
        "id": "w_iwoSylkDja",
        "outputId": "2d2a6490-3148-4e7f-e8e2-1e4e57cd3bc9"
      },
      "outputs": [
        {
          "ename": "NameError",
          "evalue": "name 'os' is not defined",
          "output_type": "error",
          "traceback": [
            "\u001b[1;31m---------------------------------------------------------------------------\u001b[0m",
            "\u001b[1;31mNameError\u001b[0m                                 Traceback (most recent call last)",
            "Cell \u001b[1;32mIn[29], line 1\u001b[0m\n\u001b[1;32m----> 1\u001b[0m \u001b[38;5;28;01mif\u001b[39;00m os\u001b[38;5;241m.\u001b[39mpath\u001b[38;5;241m.\u001b[39mexists(\u001b[38;5;124m'\u001b[39m\u001b[38;5;124msonuçlar_LDA.xlsx\u001b[39m\u001b[38;5;124m'\u001b[39m):\n\u001b[0;32m      3\u001b[0m         existing_data \u001b[38;5;241m=\u001b[39m pd\u001b[38;5;241m.\u001b[39mread_excel(\u001b[38;5;124m'\u001b[39m\u001b[38;5;124msonuçlar_LDA.xlsx\u001b[39m\u001b[38;5;124m'\u001b[39m)\n\u001b[0;32m      5\u001b[0m             \u001b[38;5;66;03m# Concatenate existing data with new results\u001b[39;00m\n",
            "\u001b[1;31mNameError\u001b[0m: name 'os' is not defined"
          ]
        }
      ],
      "source": [
        "if os.path.exists('sonuçlar_LDA.xlsx'):\n",
        "\n",
        "        existing_data = pd.read_excel('sonuçlar_LDA.xlsx')\n",
        "\n",
        "            # Concatenate existing data with new results\n",
        "        sonuçlar_df = pd.concat([existing_data, sonuçlar_df], ignore_index=True)\n",
        "\n",
        "sonuçlar_df.to_excel('sonuçlar_LDA.xlsx', index=False)\n",
        ""
      ]
    },
    {
      "cell_type": "code",
      "execution_count": null,
      "metadata": {
        "id": "AhmRFNOEkDja"
      },
      "outputs": [],
      "source": []
    }
  ],
  "metadata": {
    "colab": {
      "provenance": [],
      "toc_visible": true,
      "include_colab_link": true
    },
    "kernelspec": {
      "display_name": "Python 3 (ipykernel)",
      "language": "python",
      "name": "python3"
    },
    "language_info": {
      "codemirror_mode": {
        "name": "ipython",
        "version": 3
      },
      "file_extension": ".py",
      "mimetype": "text/x-python",
      "name": "python",
      "nbconvert_exporter": "python",
      "pygments_lexer": "ipython3",
      "version": "3.11.7"
    },
    "toc-autonumbering": false,
    "toc-showtags": false
  },
  "nbformat": 4,
  "nbformat_minor": 0
}